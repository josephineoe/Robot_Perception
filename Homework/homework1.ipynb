{
 "cells": [
  {
   "cell_type": "code",
   "execution_count": null,
   "id": "60e32a43",
   "metadata": {},
   "outputs": [
    {
     "data": {
      "image/png": "[encoded data removed]",
      "text/plain": [
       "<Figure size 640x480 with 1 Axes>"
      ]
     },
     "metadata": {},
     "output_type": "display_data"
    }
   ],
   "source": [
    "#Task 1\n",
    "\n",
    "#a)\n",
    "import cv2\n",
    "import numpy as np\n",
    "import matplotlib.pyplot as plt\n",
    "     \n",
    "\n",
    "secret = cv2.imread(\"_Fall_2025__ROB_GY_6203_HW1/data/for_watson.png\", cv2.IMREAD_COLOR)\n",
    "if secret is None:\n",
    "    print(\"Image not loaded. Check the path and filename.\")\n",
    "    exit()\n",
    "\n",
    "_, thresh = cv2.threshold(secret, 0, 255, cv2.THRESH_BINARY)\n",
    "\n",
    "plt.imshow(thresh, cmap='gray')\n",
    "cv2.imwrite('decoded_message.png', thresh)\n",
    "plt.title('Decoded Message')\n",
    "plt.axis('off')\n",
    "plt.show()\n"
   ]
  },
  {
   "cell_type": "code",
   "execution_count": null,
   "id": "3280e79f",
   "metadata": {},
   "outputs": [
    {
     "ename": "AttributeError",
     "evalue": "module 'mnist_reader' has no attribute 'load_mnist'",
     "output_type": "error",
     "traceback": [
      "\u001b[31m---------------------------------------------------------------------------\u001b[39m",
      "\u001b[31mAttributeError\u001b[39m                            Traceback (most recent call last)",
      "\u001b[36mCell\u001b[39m\u001b[36m \u001b[39m\u001b[32mIn[5]\u001b[39m\u001b[32m, line 21\u001b[39m\n\u001b[32m     18\u001b[39m \u001b[38;5;28;01mimport\u001b[39;00m\u001b[38;5;250m \u001b[39m\u001b[34;01mmnist_reader\u001b[39;00m\n\u001b[32m     20\u001b[39m \u001b[38;5;66;03m# Load training and test data\u001b[39;00m\n\u001b[32m---> \u001b[39m\u001b[32m21\u001b[39m X_train, y_train = \u001b[43mmnist_reader\u001b[49m\u001b[43m.\u001b[49m\u001b[43mload_mnist\u001b[49m(\u001b[33m'\u001b[39m\u001b[33mHomework\u001b[39m\u001b[38;5;130;01m\\f\u001b[39;00m\u001b[33mashion-mnist-master\u001b[39m\u001b[38;5;130;01m\\f\u001b[39;00m\u001b[33mashion-mnist-master\u001b[39m\u001b[33m\\\u001b[39m\u001b[33mdata\u001b[39m\u001b[38;5;130;01m\\f\u001b[39;00m\u001b[33mashion\u001b[39m\u001b[33m'\u001b[39m, kind=\u001b[33m'\u001b[39m\u001b[33mtrain\u001b[39m\u001b[33m'\u001b[39m)\n\u001b[32m     22\u001b[39m X_test, y_test = mnist_reader.load_mnist(\u001b[33m'\u001b[39m\u001b[33mHomework\u001b[39m\u001b[38;5;130;01m\\f\u001b[39;00m\u001b[33mashion-mnist-master\u001b[39m\u001b[38;5;130;01m\\f\u001b[39;00m\u001b[33mashion-mnist-master\u001b[39m\u001b[33m\\\u001b[39m\u001b[33mdata\u001b[39m\u001b[38;5;130;01m\\f\u001b[39;00m\u001b[33mashion\u001b[39m\u001b[33m'\u001b[39m, kind=\u001b[33m'\u001b[39m\u001b[33mt10k\u001b[39m\u001b[33m'\u001b[39m)\n\u001b[32m     24\u001b[39m \u001b[38;5;66;03m# Convert data to torch tensors\u001b[39;00m\n",
      "\u001b[31mAttributeError\u001b[39m: module 'mnist_reader' has no attribute 'load_mnist'"
     ]
    }
   ],
   "source": [
    "#Task 2\n",
    "# dimensionality reduction\n",
    "    \n",
    "import numpy as np\n",
    "import pandas as pd\n",
    "import matplotlib.pylab as plt\n",
    "\n",
    "import numpy as np\n",
    "import torch\n",
    "import torch.nn as nn\n",
    "import torch.optim as optim\n",
    "from torch.utils.data import DataLoader, TensorDataset\n",
    "from sklearn.manifold import TSNE\n",
    "import matplotlib.pyplot as plt\n",
    "\n",
    "# Load Fashion-MNIST dataset\n",
    "import os\n",
    "import mnist_reader\n",
    "\n",
    "# Load training and test data\n",
    "X_train, y_train = mnist_reader.load_mnist('data/fashion', kind='train')\n",
    "X_test, y_test = mnist_reader.load_mnist('data/fashion', kind='t10k')\n",
    "\n",
    "# Convert data to torch tensors\n",
    "X_train_tensor = torch.tensor(X_train, dtype=torch.float32) / 255.0\n",
    "X_test_tensor = torch.tensor(X_test, dtype=torch.float32) / 255.0\n",
    "\n",
    "# Define a simple autoencoder architecture for unsupervised learning\n",
    "class Autoencoder(nn.Module):\n",
    "    def __init__(self):\n",
    "        super(Autoencoder, self).__init__()\n",
    "        # Encoder\n",
    "        self.encoder = nn.Sequential(\n",
    "            nn.Linear(28*28, 128),\n",
    "            nn.ReLU(True),\n",
    "            nn.Linear(128, 64),\n",
    "            nn.ReLU(True),\n",
    "            nn.Linear(64, 32)  # latent space dimension\n",
    "        )\n",
    "        # Decoder\n",
    "        self.decoder = nn.Sequential(\n",
    "            nn.Linear(32, 64),\n",
    "            nn.ReLU(True),\n",
    "            nn.Linear(64, 128),\n",
    "            nn.ReLU(True),\n",
    "            nn.Linear(128, 28*28),\n",
    "            nn.Sigmoid()  # output pixel intensity normalized\n",
    "        )\n",
    "\n",
    "    def forward(self, x):\n",
    "        x = self.encoder(x)\n",
    "        x = self.decoder(x)\n",
    "        return x\n",
    "\n",
    "# Create dataset and dataloader\n",
    "train_dataset = TensorDataset(X_train_tensor, X_train_tensor)  # autoencoder wants input=target\n",
    "train_loader = DataLoader(train_dataset, batch_size=256, shuffle=True)\n",
    "\n",
    "# Instantiate model, loss, optimizer\n",
    "model = Autoencoder()\n",
    "criterion = nn.MSELoss()\n",
    "optimizer = optim.Adam(model.parameters(), lr=0.001)\n",
    "\n",
    "# Train autoencoder\n",
    "num_epochs = 20\n",
    "for epoch in range(num_epochs):\n",
    "    total_loss = 0\n",
    "    for data_in, target in train_loader:\n",
    "        optimizer.zero_grad()\n",
    "        output = model(data_in)\n",
    "        loss = criterion(output, target)\n",
    "        loss.backward()\n",
    "        optimizer.step()\n",
    "        total_loss += loss.item() * data_in.size(0)\n",
    "    avg_loss = total_loss / len(train_loader.dataset)\n",
    "    print(f'Epoch [{epoch+1}/{num_epochs}], Loss: {avg_loss:.4f}')\n",
    "\n",
    "# Encode test images to lower dimension\n",
    "with torch.no_grad():\n",
    "    encoded_test = model.encoder(X_test_tensor).numpy()\n",
    "\n",
    "# Use tSNE to reduce encoded features to 2D\n",
    "tsne = TSNE(n_components=2, random_state=42)\n",
    "X_test_tsne = tsne.fit_transform(encoded_test)\n",
    "\n",
    "# Visualize all the 10,000 images in 2D\n",
    "plt.figure(figsize=(10, 8))\n",
    "scatter = plt.scatter(X_test_tsne[:, 0], X_test_tsne[:, 1], c=y_test, cmap='tab10', s=5)\n",
    "plt.colorbar(scatter, ticks=range(10))\n",
    "plt.title('t-SNE Visualization of Fashion-MNIST Images after Autoencoding')\n",
    "plt.xlabel('t-SNE Dim 1')\n",
    "plt.ylabel('t-SNE Dim 2')\n",
    "plt.show()\n",
    "\n",
    "#sources\n",
    "# 1. https://github.com/Rahulraj31/Autoencoder_MNIST-Fashion/blob/main/MNIST_Autoencoders.ipynb\n",
    "# 2. https://github.com/najeebuddinm98/vae_fashionmnist/blob/main/VAE_fashionmnist.ipynb"
   ]
  },
  {
   "cell_type": "code",
   "execution_count": 1,
   "id": "65641396",
   "metadata": {},
   "outputs": [
    {
     "name": "stdout",
     "output_type": "stream",
     "text": [
      "2.8.0+cpu\n",
      "CUDA available: False\n"
     ]
    }
   ],
   "source": [
    "import torch\n",
    "print(torch.__version__)\n",
    "print(\"CUDA available:\", torch.cuda.is_available())\n"
   ]
  }
 ],
 "metadata": {
  "kernelspec": {
   "display_name": "Python (pytorch_env)",
   "language": "python",
   "name": "pytorch_env"
  },
  "language_info": {
   "codemirror_mode": {
    "name": "ipython",
    "version": 3
   },
   "file_extension": ".py",
   "mimetype": "text/x-python",
   "name": "python",
   "nbconvert_exporter": "python",
   "pygments_lexer": "ipython3",
   "version": "3.11.9"
  }
 },
 "nbformat": 4,
 "nbformat_minor": 5
}
